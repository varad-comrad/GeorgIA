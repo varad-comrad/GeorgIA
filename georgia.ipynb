{
 "cells": [
  {
   "cell_type": "code",
   "execution_count": null,
   "metadata": {},
   "outputs": [],
   "source": [
    "import pathlib\n",
    "import zipfile\n",
    "import io\n",
    "from PIL import Image\n",
    "import torch\n",
    "import torch.nn as nn\n",
    "import torchvision\n",
    "from torch.utils.data import DataLoader, Dataset    "
   ]
  },
  {
   "cell_type": "code",
   "execution_count": null,
   "metadata": {},
   "outputs": [],
   "source": [
    "class CustomDataset(Dataset):\n",
    "    def __init__(self, path, transform=None) -> None:\n",
    "        super().__init__()\n",
    "        self.path = pathlib.Path(path)\n",
    "        assert self.path.exists(), f\"{path} does not exist\"\n",
    "        self.transform = transform\n",
    "        self.files_path = self._get_file_list()\n",
    "    \n",
    "    def _get_file_list(self):\n",
    "        files_path = []\n",
    "        with zipfile.ZipFile(self.zip_file_path, 'r') as zip_file:\n",
    "            for name in zip_file.namelist():\n",
    "                if '/' in name:\n",
    "                    files_path.append(name)\n",
    "        return files_path\n",
    "\n",
    "    def __len__(self): \n",
    "        return len(self.file_list)\n",
    "    \n",
    "    def __getitem__(self, index):\n",
    "        image, label = None, None\n",
    "        with zipfile.ZipFile(self.zip_file_path, 'r') as zip_file:\n",
    "            with zip_file.open(self.files_path[index]) as file:\n",
    "                image = Image.open(file).convert('RGB')\n",
    "            \n",
    "            if self.transform:\n",
    "                image = self.transform(image)\n",
    "            \n",
    "            label = int(self.files_path[index].split('/')[0])\n",
    "        return image, label"
   ]
  },
  {
   "cell_type": "code",
   "execution_count": null,
   "metadata": {},
   "outputs": [],
   "source": [
    "class CustomModel(nn.Module): #? Custom model made from scratch\n",
    "    def __init__(self) -> None:\n",
    "        super().__init__()\n",
    "        pass\n",
    "\n",
    "    def forward(self, x): pass"
   ]
  },
  {
   "cell_type": "code",
   "execution_count": null,
   "metadata": {},
   "outputs": [],
   "source": [
    "class VGG(nn.Module):\n",
    "    def __init__(self, num_classes=1000) -> None:\n",
    "        super().__init__()\n",
    "        self.model = torchvision.models.vgg16(pretrained=True)\n",
    "        self.model.classifier[6] = nn.Linear(4096, num_classes)\n",
    "\n",
    "    def forward(self, x):\n",
    "        pass\n",
    "\n",
    "class ResNet(nn.Module):\n",
    "    def __init__(self, num_classes=1000) -> None:\n",
    "        super().__init__()\n",
    "        self.model = torchvision.models.resnet18(pretrained=True)\n",
    "        self.model.fc = nn.Linear(512, num_classes)\n",
    "\n",
    "    def forward(self, x):\n",
    "        pass"
   ]
  }
 ],
 "metadata": {
  "kernelspec": {
   "display_name": "Python 3",
   "language": "python",
   "name": "python3"
  },
  "language_info": {
   "codemirror_mode": {
    "name": "ipython",
    "version": 3
   },
   "file_extension": ".py",
   "mimetype": "text/x-python",
   "name": "python",
   "nbconvert_exporter": "python",
   "pygments_lexer": "ipython3",
   "version": "3.11.8"
  }
 },
 "nbformat": 4,
 "nbformat_minor": 2
}
