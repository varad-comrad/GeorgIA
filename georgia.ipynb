{
 "cells": [
  {
   "cell_type": "code",
   "execution_count": null,
   "metadata": {},
   "outputs": [],
   "source": [
    "import pathlib\n",
    "import zipfile\n",
    "import io\n",
    "import torch\n",
    "import torch.nn as nn\n",
    "import torchvision\n",
    "from torch.utils.data import DataLoader, Dataset    "
   ]
  },
  {
   "cell_type": "code",
   "execution_count": null,
   "metadata": {},
   "outputs": [],
   "source": [
    "class CustomDataset(Dataset):\n",
    "    def __init__(self, *paths) -> None:\n",
    "        super().__init__()\n",
    "        paths_pathlib = [pathlib.Path(path) for path in paths]\n",
    "        self.paths = paths_pathlib\n",
    "        for path in paths_pathlib:\n",
    "            assert path.exists(), f\"{path} does not exist\"\n",
    "            #! GET CONTENT FROM ZIP FILES IN RAM (WITHOUT EXTRACTING)\n",
    "            # with zipfile.ZipFile(io.BytesIO(path.absolute()), 'r') as zip_ref:\n",
    "            #     pass\n",
    "\n",
    "    def __len__(self): pass\n",
    "    \n",
    "    def __getitem__(self, index): pass"
   ]
  },
  {
   "cell_type": "code",
   "execution_count": null,
   "metadata": {},
   "outputs": [],
   "source": [
    "class CustomModel(nn.Module): #? Custom model made from scratch\n",
    "    def __init__(self) -> None:\n",
    "        super().__init__()\n",
    "        pass\n",
    "\n",
    "    def forward(self, x): pass"
   ]
  },
  {
   "cell_type": "code",
   "execution_count": null,
   "metadata": {},
   "outputs": [],
   "source": [
    "class VGG(nn.Module):\n",
    "    def __init__(self, num_classes=1000) -> None:\n",
    "        super().__init__()\n",
    "        self.model = torchvision.models.vgg16(pretrained=True)\n",
    "        self.model.classifier[6] = nn.Linear(4096, num_classes)\n",
    "\n",
    "    def forward(self, x):\n",
    "        pass\n",
    "\n",
    "class ResNet(nn.Module):\n",
    "    def __init__(self, num_classes=1000) -> None:\n",
    "        super().__init__()\n",
    "        self.model = torchvision.models.resnet18(pretrained=True)\n",
    "        self.model.fc = nn.Linear(512, num_classes)\n",
    "\n",
    "    def forward(self, x):\n",
    "        pass"
   ]
  }
 ],
 "metadata": {
  "kernelspec": {
   "display_name": "Python 3",
   "language": "python",
   "name": "python3"
  },
  "language_info": {
   "codemirror_mode": {
    "name": "ipython",
    "version": 3
   },
   "file_extension": ".py",
   "mimetype": "text/x-python",
   "name": "python",
   "nbconvert_exporter": "python",
   "pygments_lexer": "ipython3",
   "version": "3.11.8"
  }
 },
 "nbformat": 4,
 "nbformat_minor": 2
}
