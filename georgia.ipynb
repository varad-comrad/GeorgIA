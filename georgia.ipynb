{
 "cells": [
  {
   "cell_type": "code",
   "execution_count": 2,
   "metadata": {},
   "outputs": [],
   "source": [
    "import pathlib\n",
    "import pandas as pd\n",
    "import csv\n",
    "import json\n",
    "import zipfile\n",
    "from PIL import Image\n",
    "import torch\n",
    "from torch.nn.functional import one_hot\n",
    "import torch.nn as nn\n",
    "import torchvision\n",
    "from torch.utils.data import DataLoader, Dataset    "
   ]
  },
  {
   "cell_type": "code",
   "execution_count": 34,
   "metadata": {},
   "outputs": [],
   "source": [
    "class CustomDataset(Dataset):\n",
    "    def __init__(self, path, label2id, id2label, transform=None) -> None:\n",
    "        super().__init__()\n",
    "        self.path = pathlib.Path(path)\n",
    "        self.label2id = label2id\n",
    "        self.id2label = id2label\n",
    "        assert self.path.exists(), f\"{path} does not exist\"\n",
    "        self.transform = transform\n",
    "        self.files_path = self._get_file_list()\n",
    "    \n",
    "    def _get_file_list(self):\n",
    "        files_path = []\n",
    "            \n",
    "        with zipfile.ZipFile(self.path, 'r') as zip_file:\n",
    "            for name in zip_file.namelist():\n",
    "                if '/' in name:\n",
    "                    files_path.append(name)\n",
    "        return files_path\n",
    "\n",
    "    def __len__(self): \n",
    "        return len(self.files_path)\n",
    "    \n",
    "    def __getitem__(self, index):\n",
    "        image, label = None, None\n",
    "        with zipfile.ZipFile(self.path, 'r') as zip_file:\n",
    "            with zip_file.open(self.files_path[index]) as file:\n",
    "                image = Image.open(file).convert('RGB')\n",
    "            \n",
    "            if self.transform:\n",
    "                image = self.transform(image)\n",
    "            label = one_hot(self.label2id[self.files_path[index].split('/')[1]])\n",
    "        return image, label"
   ]
  },
  {
   "cell_type": "code",
   "execution_count": 35,
   "metadata": {},
   "outputs": [
    {
     "name": "stdout",
     "output_type": "stream",
     "text": [
      "{'Aland': 0, 'Albania': 1, 'American Samoa': 2, 'Andorra': 3, 'Antarctica': 4, 'Argentina': 5, 'Armenia': 6, 'Australia': 7, 'Austria': 8, 'Bangladesh': 9, 'Belarus': 10, 'Belgium': 11, 'Bermuda': 12, 'Bhutan': 13, 'Bolivia': 14, 'Botswana': 15, 'Brazil': 16, 'Bulgaria': 17, 'Cambodia': 18, 'Canada': 19, 'Chile': 20, 'China': 21, 'Colombia': 22, 'Costa Rica': 23, 'Croatia': 24, 'Curacao': 25, 'Czechia': 26, 'Denmark': 27, 'Dominican Republic': 28, 'Ecuador': 29, 'Egypt': 30, 'Estonia': 31, 'Eswatini': 32, 'Faroe Islands': 33, 'Finland': 34, 'France': 35, 'Germany': 36, 'Ghana': 37, 'Gibraltar': 38, 'Greece': 39, 'Greenland': 40, 'Guam': 41, 'Guatemala': 42, 'Hong Kong': 43, 'Hungary': 44, 'Iceland': 45, 'India': 46, 'Indonesia': 47, 'Iraq': 48, 'Ireland': 49, 'Isle of Man': 50, 'Israel': 51, 'Italy': 52, 'Japan': 53, 'Jersey': 54, 'Jordan': 55, 'Kenya': 56, 'Kyrgyzstan': 57, 'Laos': 58, 'Latvia': 59, 'Lebanon': 60, 'Lesotho': 61, 'Lithuania': 62, 'Luxembourg': 63, 'Macao': 64, 'Madagascar': 65, 'Malaysia': 66, 'Malta': 67, 'Martinique': 68, 'Mexico': 69, 'Monaco': 70, 'Mongolia': 71, 'Montenegro': 72, 'Mozambique': 73, 'Myanmar': 74, 'Nepal': 75, 'Netherlands': 76, 'New Zealand': 77, 'Nigeria': 78, 'North Macedonia': 79, 'Northern Mariana Islands': 80, 'Norway': 81, 'Pakistan': 82, 'Palestine': 83, 'Paraguay': 84, 'Peru': 85, 'Philippines': 86, 'Pitcairn Islands': 87, 'Poland': 88, 'Portugal': 89, 'Puerto Rico': 90, 'Qatar': 91, 'Reunion': 92, 'Romania': 93, 'Russia': 94, 'San Marino': 95, 'Senegal': 96, 'Serbia': 97, 'Singapore': 98, 'Slovakia': 99, 'Slovenia': 100, 'South Africa': 101, 'South Georgia and South Sandwich Islands': 102, 'South Korea': 103, 'South Sudan': 104, 'Spain': 105, 'Sri Lanka': 106, 'Svalbard and Jan Mayen': 107, 'Sweden': 108, 'Switzerland': 109, 'Taiwan': 110, 'Tanzania': 111, 'Thailand': 112, 'Tunisia': 113, 'Turkey': 114, 'US Virgin Islands': 115, 'Uganda': 116, 'Ukraine': 117, 'United Arab Emirates': 118, 'United Kingdom': 119, 'United States': 120, 'Uruguay': 121, 'Venezuela': 122, 'Vietnam': 123}\n",
      "\n",
      "{0: 'Aland', 1: 'Albania', 2: 'American Samoa', 3: 'Andorra', 4: 'Antarctica', 5: 'Argentina', 6: 'Armenia', 7: 'Australia', 8: 'Austria', 9: 'Bangladesh', 10: 'Belarus', 11: 'Belgium', 12: 'Bermuda', 13: 'Bhutan', 14: 'Bolivia', 15: 'Botswana', 16: 'Brazil', 17: 'Bulgaria', 18: 'Cambodia', 19: 'Canada', 20: 'Chile', 21: 'China', 22: 'Colombia', 23: 'Costa Rica', 24: 'Croatia', 25: 'Curacao', 26: 'Czechia', 27: 'Denmark', 28: 'Dominican Republic', 29: 'Ecuador', 30: 'Egypt', 31: 'Estonia', 32: 'Eswatini', 33: 'Faroe Islands', 34: 'Finland', 35: 'France', 36: 'Germany', 37: 'Ghana', 38: 'Gibraltar', 39: 'Greece', 40: 'Greenland', 41: 'Guam', 42: 'Guatemala', 43: 'Hong Kong', 44: 'Hungary', 45: 'Iceland', 46: 'India', 47: 'Indonesia', 48: 'Iraq', 49: 'Ireland', 50: 'Isle of Man', 51: 'Israel', 52: 'Italy', 53: 'Japan', 54: 'Jersey', 55: 'Jordan', 56: 'Kenya', 57: 'Kyrgyzstan', 58: 'Laos', 59: 'Latvia', 60: 'Lebanon', 61: 'Lesotho', 62: 'Lithuania', 63: 'Luxembourg', 64: 'Macao', 65: 'Madagascar', 66: 'Malaysia', 67: 'Malta', 68: 'Martinique', 69: 'Mexico', 70: 'Monaco', 71: 'Mongolia', 72: 'Montenegro', 73: 'Mozambique', 74: 'Myanmar', 75: 'Nepal', 76: 'Netherlands', 77: 'New Zealand', 78: 'Nigeria', 79: 'North Macedonia', 80: 'Northern Mariana Islands', 81: 'Norway', 82: 'Pakistan', 83: 'Palestine', 84: 'Paraguay', 85: 'Peru', 86: 'Philippines', 87: 'Pitcairn Islands', 88: 'Poland', 89: 'Portugal', 90: 'Puerto Rico', 91: 'Qatar', 92: 'Reunion', 93: 'Romania', 94: 'Russia', 95: 'San Marino', 96: 'Senegal', 97: 'Serbia', 98: 'Singapore', 99: 'Slovakia', 100: 'Slovenia', 101: 'South Africa', 102: 'South Georgia and South Sandwich Islands', 103: 'South Korea', 104: 'South Sudan', 105: 'Spain', 106: 'Sri Lanka', 107: 'Svalbard and Jan Mayen', 108: 'Sweden', 109: 'Switzerland', 110: 'Taiwan', 111: 'Tanzania', 112: 'Thailand', 113: 'Tunisia', 114: 'Turkey', 115: 'US Virgin Islands', 116: 'Uganda', 117: 'Ukraine', 118: 'United Arab Emirates', 119: 'United Kingdom', 120: 'United States', 121: 'Uruguay', 122: 'Venezuela', 123: 'Vietnam'}\n"
     ]
    }
   ],
   "source": [
    "def create_label_encs(dataset_path):\n",
    "    label2id, id2label = {}, {}\n",
    "    with zipfile.ZipFile(dataset_path, 'r') as zip_file:\n",
    "        for name in zip_file.namelist():\n",
    "            if '/' in name:\n",
    "                label = name.split('/')[1]\n",
    "                if label not in label2id:\n",
    "                    label2id[label] = len(label2id)\n",
    "                    id2label[len(id2label)] = label\n",
    "    return label2id, id2label\n",
    "\n",
    "\n",
    "label2id, id2label = create_label_encs(\n",
    "    'datasets/geolocation-geoguessr-images-50k.zip')\n",
    "print(label2id, id2label, sep='\\n\\n')"
   ]
  },
  {
   "cell_type": "code",
   "execution_count": 36,
   "metadata": {},
   "outputs": [
    {
     "name": "stdout",
     "output_type": "stream",
     "text": [
      "49997 35977\n"
     ]
    }
   ],
   "source": [
    "dataset1 = CustomDataset('datasets/geolocation-geoguessr-images-50k.zip', label2id, id2label)\n",
    "dataset2 = CustomDataset('datasets/geoguessr-55countries.zip', label2id, id2label)"
   ]
  },
  {
   "cell_type": "code",
   "execution_count": null,
   "metadata": {},
   "outputs": [],
   "source": [
    "class CustomModel(nn.Module): #? Custom model made from scratch\n",
    "    def __init__(self) -> None:\n",
    "        super().__init__()\n",
    "        \n",
    "\n",
    "    def forward(self, x): pass"
   ]
  },
  {
   "cell_type": "code",
   "execution_count": null,
   "metadata": {},
   "outputs": [],
   "source": [
    "class Callback:\n",
    "    def __init__(self) -> None:\n",
    "        self.epoch_counter = 0\n",
    "        self.batch_counter = 0\n",
    "\n",
    "    def on_train_begin(self): \n",
    "        self.batch_counter = 0\n",
    "\n",
    "    def on_train_end(self):\n",
    "        return None\n",
    "\n",
    "    def on_epoch_begin(self): \n",
    "        return None\n",
    "    \n",
    "    def on_epoch_end(self, val_loss, model, *args): \n",
    "        self.epoch_counter += 1\n",
    "    \n",
    "    def on_batch_begin(self):\n",
    "        return None\n",
    "    \n",
    "    def on_batch_end(self): \n",
    "        self.batch_counter += 1"
   ]
  },
  {
   "cell_type": "code",
   "execution_count": null,
   "metadata": {},
   "outputs": [],
   "source": [
    "class ModelCheckpoint(Callback):\n",
    "    def __init__(self, path) -> None:\n",
    "        super().__init__()\n",
    "        self.path = pathlib.Path(path)\n",
    "        self.best_loss = float('inf')\n",
    "\n",
    "    def on_epoch_end(self, val_loss, model, *args):\n",
    "        super().on_epoch_end(val_loss, model, *args)\n",
    "        if val_loss < self.best_loss:\n",
    "            self.best_loss = val_loss\n",
    "            torch.save(model.state_dict(), self.path)\n",
    "\n",
    "class EarlyStopping(Callback):\n",
    "    def __init__(self, patience, restore_best_weights=False, checkpoint: str|bool=False) -> None:\n",
    "        super().__init__()\n",
    "        self.patience = patience\n",
    "        self.restore_best_weights = restore_best_weights\n",
    "        self.checkpoint = checkpoint\n",
    "\n",
    "        if self.checkpoint:\n",
    "            self.model_checkpoint = ModelCheckpoint(self.checkpoint)\n",
    "        if self.restore_best_weights:\n",
    "            self.best_weights = None\n",
    "\n",
    "        self.counter = 0\n",
    "        self.best_loss = float('inf')\n",
    "\n",
    "    def on_epoch_end(self, val_loss, model, *args):\n",
    "        super().on_epoch_end(val_loss, model, *args)\n",
    "        if val_loss < self.best_loss:\n",
    "            self.best_loss = val_loss\n",
    "            self.counter = 0\n",
    "        else:\n",
    "            self.counter += 1\n",
    "            if self.counter >= self.patience:\n",
    "                print(f\"Early stopping on epoch {self.epoch_counter} with val_loss: {val_loss}\")\n",
    "                return True\n",
    "            \n",
    "class LearningRateScheduler(Callback):\n",
    "    def __init__(self, lr_scheduler) -> None:\n",
    "        super().__init__()\n",
    "        self.lr_scheduler = lr_scheduler\n",
    "\n",
    "    def on_epoch_end(self, val_loss, model, *args):\n",
    "        super().on_epoch_end(val_loss, model)\n",
    "        self.lr_scheduler(self.epoch_counter, *args)"
   ]
  },
  {
   "cell_type": "code",
   "execution_count": null,
   "metadata": {},
   "outputs": [],
   "source": [
    "def train(model, train_loader, val_loader, loss_func, optimizer, epochs, callbacks: None | list[Callback] = None):\n",
    "    for epoch in range(epochs):\n",
    "        if any(callback.on_epoch_begin() for callback in callbacks):\n",
    "            break\n",
    "        model.train()\n",
    "        if any(callback.on_train_begin() for callback in callbacks):\n",
    "            break\n",
    "        for images, labels in train_loader:\n",
    "            if any(callback.on_batch_begin() for callback in callbacks):\n",
    "                break\n",
    "            optimizer.zero_grad()\n",
    "            output = model(images)\n",
    "            loss = loss_func(output, labels)\n",
    "            loss.backward()\n",
    "            optimizer.step()\n",
    "            if any(callback.on_batch_end() for callback in callbacks):\n",
    "                break\n",
    "        if any(callback.on_train_end() for callback in callbacks):\n",
    "            break\n",
    "        \n",
    "        model.eval()\n",
    "        with torch.no_grad():\n",
    "            val_loss = 0\n",
    "            val_samples = 0\n",
    "            for images, labels in val_loader:\n",
    "                output = model(images)\n",
    "                loss = loss_func(output, labels)\n",
    "                val_loss += loss.item()\n",
    "                val_samples += 1\n",
    "            avg_val_loss = val_loss / val_samples\n",
    "            print(f\"Epoch: {epoch}, Validation Loss: {avg_val_loss}\")\n",
    "        if any(callback.on_epoch_end(avg_val_loss, model) for callback in callbacks):\n",
    "            break"
   ]
  }
 ],
 "metadata": {
  "kernelspec": {
   "display_name": "Python 3",
   "language": "python",
   "name": "python3"
  },
  "language_info": {
   "codemirror_mode": {
    "name": "ipython",
    "version": 3
   },
   "file_extension": ".py",
   "mimetype": "text/x-python",
   "name": "python",
   "nbconvert_exporter": "python",
   "pygments_lexer": "ipython3",
   "version": "3.11.8"
  }
 },
 "nbformat": 4,
 "nbformat_minor": 2
}
